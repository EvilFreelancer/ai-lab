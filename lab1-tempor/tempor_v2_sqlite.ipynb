{
 "cells": [
  {
   "cell_type": "markdown",
   "source": [
    "# Лабораторная работа №1\n",
    "\n",
    "> Разработка и исследование «темпорального процессора» для информационно-аналитических систем\n",
    "\n",
    "1. Рассмотрение теоретической части задания;\n",
    "2. Представление общей структуры темпорального процессора;\n",
    "3. Разработка алгоритмов моделирования темпоральных процессов;\n",
    "4. Разработка алгоритмов анализа темпоральных процессов (темпорального процессора), выполнение чертежей (эскизов)\n",
    "   экранных форм;\n",
    "5. Написание и отладка программы моделирования темпоральных процессов;\n",
    "6. Написание и отладка программы темпорального процессора;\n",
    "7. Выполнение темпоральных (вычислительных) экспериментов;\n",
    "8. Анализ правдоподобности результатов вычислительного эксперимента;\n",
    "9. Выполнение отчетных материалов."
   ],
   "metadata": {
    "collapsed": false
   }
  },
  {
   "cell_type": "markdown",
   "source": [
    "## Проверим наличие файла базы данных"
   ],
   "metadata": {
    "collapsed": false
   }
  },
  {
   "cell_type": "code",
   "execution_count": 1,
   "outputs": [
    {
     "name": "stdout",
     "output_type": "stream",
     "text": [
      "Database already exists, skipping initialization.\n"
     ]
    }
   ],
   "source": [
    "import os\n",
    "\n",
    "# Проверяем, существует ли файл\n",
    "if not os.path.exists('temporal_data.db'):\n",
    "    # Если файл не существует, выполняем скрипт init_db.py\n",
    "    os.system('python init_db.py')\n",
    "else:\n",
    "    print('Database already exists, skipping initialization.')"
   ],
   "metadata": {
    "collapsed": false,
    "ExecuteTime": {
     "end_time": "2023-06-04T12:09:09.115452841Z",
     "start_time": "2023-06-04T12:09:09.106771408Z"
    }
   }
  },
  {
   "cell_type": "markdown",
   "source": [
    "## Разработка формата представления темпоральных данных"
   ],
   "metadata": {
    "collapsed": false
   }
  },
  {
   "cell_type": "code",
   "execution_count": 2,
   "outputs": [],
   "source": [
    "import sqlite3\n",
    "import pandas as pd\n",
    "\n",
    "# Создаем соединение с базой данных\n",
    "conn = sqlite3.connect('temporal_data.db')\n",
    "\n",
    "# Читаем данные из таблицы в DataFrame\n",
    "df = pd.read_sql_query('SELECT * FROM temporal_data', conn)\n",
    "\n",
    "# Закрываем соединение\n",
    "conn.close()\n",
    "\n",
    "# Преобразуем строки с датами обратно в объекты Timestamp\n",
    "df['start_time'] = pd.to_datetime(df['start_time'])\n",
    "df['end_time'] = pd.to_datetime(df['end_time'])"
   ],
   "metadata": {
    "collapsed": false,
    "ExecuteTime": {
     "end_time": "2023-06-04T12:09:09.239559250Z",
     "start_time": "2023-06-04T12:09:09.106975502Z"
    }
   }
  },
  {
   "cell_type": "markdown",
   "source": [
    "## Разработка формата записи и хранения темпоральных отношений"
   ],
   "metadata": {
    "collapsed": false
   }
  },
  {
   "cell_type": "code",
   "execution_count": 3,
   "outputs": [],
   "source": [
    "df['duration'] = (df['end_time'] - df['start_time']).dt.total_seconds()"
   ],
   "metadata": {
    "collapsed": false,
    "ExecuteTime": {
     "end_time": "2023-06-04T12:09:09.241665133Z",
     "start_time": "2023-06-04T12:09:09.239829830Z"
    }
   }
  },
  {
   "cell_type": "markdown",
   "source": [
    "## Разработка интерфейса пользователя для имитационной модели"
   ],
   "metadata": {
    "collapsed": false
   }
  },
  {
   "cell_type": "code",
   "execution_count": 4,
   "outputs": [
    {
     "data": {
      "text/plain": "<Figure size 640x480 with 1 Axes>",
      "image/png": "[encoded data removed]"
     },
     "metadata": {},
     "output_type": "display_data"
    }
   ],
   "source": [
    "import matplotlib.pyplot as plt\n",
    "\n",
    "# Визуализируем данные\n",
    "fig, ax = plt.subplots()\n",
    "\n",
    "# Для каждого события рисуем линию от начала до конца события\n",
    "for i, row in df.iterrows():\n",
    "    ax.plot([row['start_time'], row['end_time']], [i, i], marker = 'o')\n",
    "\n",
    "# Устанавливаем названия осей\n",
    "ax.set_yticks(range(len(df)))\n",
    "ax.set_yticklabels(df['event'])\n",
    "ax.set_xlabel('Time')\n",
    "\n",
    "plt.show()"
   ],
   "metadata": {
    "collapsed": false,
    "ExecuteTime": {
     "end_time": "2023-06-04T12:09:09.515980311Z",
     "start_time": "2023-06-04T12:09:09.242302061Z"
    }
   }
  },
  {
   "cell_type": "markdown",
   "source": [
    "## Разработка имитационной программы"
   ],
   "metadata": {
    "collapsed": false
   }
  },
  {
   "cell_type": "code",
   "execution_count": 5,
   "outputs": [],
   "source": [
    "# Имитация пяти темпоральных процессов и позиции наблюдателя\n",
    "# Здесь мы просто генерируем случайные данные для демонстрации\n",
    "import numpy as np\n",
    "\n",
    "np.random.seed(0)\n",
    "df_simulation = pd.DataFrame({\n",
    "    'event': ['event' + str(i) for i in range(5)],\n",
    "    'start_time': pd.to_datetime(np.random.choice(pd.date_range('2023-06-01 10:00:00', '2023-06-01 11:30:00', freq='1min'), 5)),\n",
    "    'end_time': pd.to_datetime(np.random.choice(pd.date_range('2023-06-01 10:15:00', '2023-06-01 11:45:00', freq='1min'), 5))\n",
    "})"
   ],
   "metadata": {
    "collapsed": false,
    "ExecuteTime": {
     "end_time": "2023-06-04T12:09:09.560867824Z",
     "start_time": "2023-06-04T12:09:09.518362122Z"
    }
   }
  },
  {
   "cell_type": "markdown",
   "source": [
    "## Разработка алгоритма темпоральных отношений пар процессов"
   ],
   "metadata": {
    "collapsed": false
   }
  },
  {
   "cell_type": "code",
   "execution_count": 6,
   "outputs": [],
   "source": [
    "# Здесь мы просто определяем, происходит ли одно событие после другого\n",
    "def temporal_relation(event1, event2):\n",
    "    if event1['end_time'] < event2['start_time']:\n",
    "        return 'event1 happens before event2'\n",
    "    elif event2['end_time'] < event1['start_time']:\n",
    "        return 'event2 happens before event1'\n",
    "    else:\n",
    "        return 'events overlap'"
   ],
   "metadata": {
    "collapsed": false,
    "ExecuteTime": {
     "end_time": "2023-06-04T12:09:09.561026312Z",
     "start_time": "2023-06-04T12:09:09.558782030Z"
    }
   }
  },
  {
   "cell_type": "code",
   "execution_count": 7,
   "outputs": [
    {
     "name": "stdout",
     "output_type": "stream",
     "text": [
      "Relation between event0 and event1: event1 happens before event2\n",
      "Relation between event1 and event2: event2 happens before event1\n",
      "Relation between event2 and event3: event1 happens before event2\n",
      "Relation between event3 and event4: event1 happens before event2\n"
     ]
    }
   ],
   "source": [
    "# Применяем функцию к каждой паре событий\n",
    "for i in range(len(df_simulation) - 1):\n",
    "    event1 = df_simulation.iloc[i]\n",
    "    event2 = df_simulation.iloc[i + 1]\n",
    "    print(f'Relation between {event1[\"event\"]} and {event2[\"event\"]}: {temporal_relation(event1, event2)}')"
   ],
   "metadata": {
    "collapsed": false,
    "ExecuteTime": {
     "end_time": "2023-06-04T12:09:09.561223393Z",
     "start_time": "2023-06-04T12:09:09.558861810Z"
    }
   }
  },
  {
   "cell_type": "markdown",
   "source": [
    "## Разработка формата записи и хранения темпоральных отношений"
   ],
   "metadata": {
    "collapsed": false
   }
  },
  {
   "cell_type": "code",
   "execution_count": 8,
   "outputs": [],
   "source": [
    "import json\n",
    "\n",
    "# Здесь мы просто сохраняем DataFrame в JSONL-файл\n",
    "with open('temporal_data.jsonl', 'w') as file:\n",
    "    for record in df_simulation.to_dict('records'):\n",
    "        # Преобразование объектов Timestamp в строки\n",
    "        record['start_time'] = record['start_time'].isoformat()\n",
    "        record['end_time'] = record['end_time'].isoformat()\n",
    "        file.write(json.dumps(record) + '\\n')"
   ],
   "metadata": {
    "collapsed": false,
    "ExecuteTime": {
     "end_time": "2023-06-04T12:09:09.561315967Z",
     "start_time": "2023-06-04T12:09:09.558915220Z"
    }
   }
  }
 ],
 "metadata": {
  "kernelspec": {
   "display_name": "Python 3",
   "language": "python",
   "name": "python3"
  },
  "language_info": {
   "codemirror_mode": {
    "name": "ipython",
    "version": 2
   },
   "file_extension": ".py",
   "mimetype": "text/x-python",
   "name": "python",
   "nbconvert_exporter": "python",
   "pygments_lexer": "ipython2",
   "version": "2.7.6"
  }
 },
 "nbformat": 4,
 "nbformat_minor": 0
}

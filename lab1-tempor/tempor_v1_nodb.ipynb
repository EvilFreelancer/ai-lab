{
 "cells": [
  {
   "cell_type": "markdown",
   "source": [
    "# Лабораторная работа №1\n",
    "\n",
    "> Разработка и исследование «темпорального процессора» для информационно-аналитических систем\n",
    "\n",
    "1. Рассмотрение теоретической части задания;\n",
    "2. Представление общей структуры темпорального процессора;\n",
    "3. Разработка алгоритмов моделирования темпоральных процессов;\n",
    "4. Разработка алгоритмов анализа темпоральных процессов (темпорального процессора), выполнение чертежей (эскизов)\n",
    "   экранных форм;\n",
    "5. Написание и отладка программы моделирования темпоральных процессов;\n",
    "6. Написание и отладка программы темпорального процессора;\n",
    "7. Выполнение темпоральных (вычислительных) экспериментов;\n",
    "8. Анализ правдоподобности результатов вычислительного эксперимента;\n",
    "9. Выполнение отчетных материалов."
   ],
   "metadata": {
    "collapsed": false
   }
  },
  {
   "cell_type": "markdown",
   "source": [
    "## Разработка формата представления темпоральных данных"
   ],
   "metadata": {
    "collapsed": false
   }
  },
  {
   "cell_type": "code",
   "execution_count": 1,
   "outputs": [],
   "source": [
    "import pandas as pd\n",
    "\n",
    "# Создаем DataFrame с темпоральными данными\n",
    "data = {\n",
    "    'event': ['event1', 'event2', 'event3', 'event4'],\n",
    "    'start_time': pd.to_datetime(['2023-06-01 10:00:00', '2023-06-01 10:30:00', '2023-06-01 11:00:00', '2023-06-01 11:30:00']),\n",
    "    'end_time': pd.to_datetime(['2023-06-01 10:15:00', '2023-06-01 10:45:00', '2023-06-01 11:15:00', '2023-06-01 11:45:00'])\n",
    "}\n",
    "df = pd.DataFrame(data)"
   ],
   "metadata": {
    "collapsed": false,
    "ExecuteTime": {
     "end_time": "2023-06-11T11:48:12.059121320Z",
     "start_time": "2023-06-11T11:48:11.942215400Z"
    }
   }
  },
  {
   "cell_type": "markdown",
   "source": [
    "## Разработка формата записи и хранения темпоральных отношений"
   ],
   "metadata": {
    "collapsed": false
   }
  },
  {
   "cell_type": "code",
   "execution_count": 2,
   "outputs": [],
   "source": [
    "df['duration'] = (df['end_time'] - df['start_time']).dt.total_seconds()"
   ],
   "metadata": {
    "collapsed": false,
    "ExecuteTime": {
     "end_time": "2023-06-11T11:48:12.061561705Z",
     "start_time": "2023-06-11T11:48:12.060644598Z"
    }
   }
  },
  {
   "cell_type": "markdown",
   "source": [
    "## Разработка интерфейса пользователя для имитационной модели"
   ],
   "metadata": {
    "collapsed": false
   }
  },
  {
   "cell_type": "code",
   "execution_count": 3,
   "outputs": [
    {
     "data": {
      "text/plain": "<Figure size 640x480 with 1 Axes>",
      "image/png": "[encoded data removed]"
     },
     "metadata": {},
     "output_type": "display_data"
    }
   ],
   "source": [
    "import matplotlib.pyplot as plt\n",
    "\n",
    "# Визуализируем данные\n",
    "fig, ax = plt.subplots()\n",
    "\n",
    "# Для каждого события рисуем линию от начала до конца события\n",
    "for i, row in df.iterrows():\n",
    "    ax.plot([row['start_time'], row['end_time']], [i, i], marker = 'o')\n",
    "\n",
    "# Устанавливаем названия осей\n",
    "ax.set_yticks(range(len(df)))\n",
    "ax.set_yticklabels(df['event'])\n",
    "ax.set_xlabel('Time')\n",
    "\n",
    "plt.show()"
   ],
   "metadata": {
    "collapsed": false,
    "ExecuteTime": {
     "end_time": "2023-06-11T11:48:12.338806790Z",
     "start_time": "2023-06-11T11:48:12.062894014Z"
    }
   }
  },
  {
   "cell_type": "markdown",
   "source": [
    "## Разработка имитационной программы"
   ],
   "metadata": {
    "collapsed": false
   }
  },
  {
   "cell_type": "code",
   "execution_count": 4,
   "outputs": [],
   "source": [
    "# Имитация пяти темпоральных процессов и позиции наблюдателя\n",
    "# Здесь мы просто генерируем случайные данные для демонстрации\n",
    "import numpy as np\n",
    "\n",
    "np.random.seed(0)\n",
    "df_simulation = pd.DataFrame({\n",
    "    'event': ['event' + str(i) for i in range(5)],\n",
    "    'start_time': pd.to_datetime(np.random.choice(pd.date_range('2023-06-01 10:00:00', '2023-06-01 11:30:00', freq='1min'), 5)),\n",
    "    'end_time': pd.to_datetime(np.random.choice(pd.date_range('2023-06-01 10:15:00', '2023-06-01 11:45:00', freq='1min'), 5))\n",
    "})"
   ],
   "metadata": {
    "collapsed": false,
    "ExecuteTime": {
     "end_time": "2023-06-11T11:48:12.342792365Z",
     "start_time": "2023-06-11T11:48:12.341359307Z"
    }
   }
  },
  {
   "cell_type": "markdown",
   "source": [
    "## Разработка алгоритма темпоральных отношений пар процессов"
   ],
   "metadata": {
    "collapsed": false
   }
  },
  {
   "cell_type": "code",
   "execution_count": 5,
   "outputs": [],
   "source": [
    "# Здесь мы просто определяем, происходит ли одно событие после другого\n",
    "def temporal_relation(event0, event1):\n",
    "    if event0['end_time'] < event1['start_time']:\n",
    "        return '[0] произошло перед [1]'\n",
    "    elif event1['end_time'] < event0['start_time']:\n",
    "        return '[1] произошло перед [0]'\n",
    "    else:\n",
    "        return 'события перекрываются'"
   ],
   "metadata": {
    "collapsed": false,
    "ExecuteTime": {
     "end_time": "2023-06-11T11:48:12.346224267Z",
     "start_time": "2023-06-11T11:48:12.343717868Z"
    }
   }
  },
  {
   "cell_type": "code",
   "execution_count": 6,
   "outputs": [
    {
     "name": "stdout",
     "output_type": "stream",
     "text": [
      "Отношение между [0]event0 и [1]event1: [0] произошло перед [1]\n",
      "Отношение между [0]event1 и [1]event2: [1] произошло перед [0]\n",
      "Отношение между [0]event2 и [1]event3: [0] произошло перед [1]\n",
      "Отношение между [0]event3 и [1]event4: [0] произошло перед [1]\n"
     ]
    }
   ],
   "source": [
    "# Применяем функцию к каждой паре событий\n",
    "for i in range(len(df_simulation) - 1):\n",
    "    event0 = df_simulation.iloc[i]\n",
    "    event1 = df_simulation.iloc[i + 1]\n",
    "    print(f'Отношение между [0]{event0[\"event\"]} и [1]{event1[\"event\"]}: {temporal_relation(event0, event1)}')"
   ],
   "metadata": {
    "collapsed": false,
    "ExecuteTime": {
     "end_time": "2023-06-11T11:48:12.349199680Z",
     "start_time": "2023-06-11T11:48:12.346621485Z"
    }
   }
  },
  {
   "cell_type": "markdown",
   "source": [
    "## Разработка формата записи и хранения темпоральных отношений"
   ],
   "metadata": {
    "collapsed": false
   }
  },
  {
   "cell_type": "code",
   "execution_count": 7,
   "outputs": [],
   "source": [
    "import json\n",
    "\n",
    "# Здесь мы просто сохраняем DataFrame в JSONL-файл\n",
    "with open('temporal_data.jsonl', 'w') as file:\n",
    "    for record in df_simulation.to_dict('records'):\n",
    "        # Преобразование объектов Timestamp в строки\n",
    "        record['start_time'] = record['start_time'].isoformat()\n",
    "        record['end_time'] = record['end_time'].isoformat()\n",
    "        file.write(json.dumps(record) + '\\n')"
   ],
   "metadata": {
    "collapsed": false,
    "ExecuteTime": {
     "end_time": "2023-06-11T11:48:12.390259468Z",
     "start_time": "2023-06-11T11:48:12.349651241Z"
    }
   }
  }
 ],
 "metadata": {
  "kernelspec": {
   "display_name": "Python 3",
   "language": "python",
   "name": "python3"
  },
  "language_info": {
   "codemirror_mode": {
    "name": "ipython",
    "version": 2
   },
   "file_extension": ".py",
   "mimetype": "text/x-python",
   "name": "python",
   "nbconvert_exporter": "python",
   "pygments_lexer": "ipython2",
   "version": "2.7.6"
  }
 },
 "nbformat": 4,
 "nbformat_minor": 0
}

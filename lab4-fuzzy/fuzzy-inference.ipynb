{
 "cells": [
  {
   "cell_type": "markdown",
   "source": [
    "# Лабораторная работа №4\n",
    "\n",
    "> Разработка и исследование нечёткого регулятора\n",
    "\n",
    "* Научиться представлять атрибуты знаний;\n",
    "* Разработать алгоритмы создания и редактирования компонентов баз знаний;\n",
    "* Разрабатывать интерфейсы пользователей для редактора правил;\n",
    "* Разработать форматы представления атрибутов и правил в информационных системах."
   ],
   "metadata": {
    "collapsed": false
   }
  },
  {
   "cell_type": "code",
   "execution_count": 440,
   "outputs": [],
   "source": [
    "# Импорт необходимых библиотек\n",
    "import numpy as np\n",
    "import skfuzzy as fuzz\n",
    "import yaml\n",
    "import matplotlib.pyplot as plt\n",
    "\n",
    "# Предел после которого считаем, что значение принадлежит множеству\n",
    "fuzzy_limit = 0.25\n",
    "\n",
    "# Анализируемые пользователи\n",
    "users = [\n",
    "    {'age': 20, 'income': 20000, 'credit_history': 0},\n",
    "    {'age': 15, 'income': 25000, 'credit_history': 1},\n",
    "    {'age': 35, 'income': 80000, 'credit_history': 1},\n",
    "    {'age': 22, 'income': 30000, 'credit_history': 1},\n",
    "    {'age': 80, 'income': 100000, 'credit_history': 1},\n",
    "    {'age': 50, 'income': 80000, 'credit_history': 0},\n",
    "    {'age': 30, 'income': 40000, 'credit_history': 1},\n",
    "    {'age': 25, 'income': 60000, 'credit_history': 1},\n",
    "    {'age': 45, 'income': 70000, 'credit_history': 0},\n",
    "    {'age': 40, 'income': 55000, 'credit_history': 0.5},\n",
    "    {'age': 22, 'income': 45000, 'credit_history': 0.5}\n",
    "]"
   ],
   "metadata": {
    "collapsed": false,
    "ExecuteTime": {
     "end_time": "2023-06-13T02:11:36.978839336Z",
     "start_time": "2023-06-13T02:11:36.935015647Z"
    }
   }
  },
  {
   "cell_type": "code",
   "execution_count": 441,
   "outputs": [],
   "source": [
    "# Загрузка базы знаний из файла\n",
    "with open('knowledge_base.yml', 'r') as file:\n",
    "    knowledge_base = yaml.load(file, Loader=yaml.FullLoader)"
   ],
   "metadata": {
    "collapsed": false,
    "ExecuteTime": {
     "end_time": "2023-06-13T02:11:36.979936670Z",
     "start_time": "2023-06-13T02:11:36.978985671Z"
    }
   }
  },
  {
   "cell_type": "code",
   "execution_count": 442,
   "outputs": [],
   "source": [
    "# Функция подсчитывает степень принадлежности значения к каждому нечеткому множеству\n",
    "def fuzzify(value, fuzzy_sets):\n",
    "    memberships = {}\n",
    "    for fuzzy_set_name, points in fuzzy_sets.items():\n",
    "        x = np.linspace(0, max(points), 100)\n",
    "        membership_function = fuzz.trapmf(x, points)\n",
    "        memberships[fuzzy_set_name] = fuzz.interp_membership(x, membership_function, value)\n",
    "    return memberships"
   ],
   "metadata": {
    "collapsed": false,
    "ExecuteTime": {
     "end_time": "2023-06-13T02:11:36.980011050Z",
     "start_time": "2023-06-13T02:11:36.979089246Z"
    }
   }
  },
  {
   "cell_type": "code",
   "execution_count": 443,
   "outputs": [],
   "source": [
    "# Функция оценивает условие для каждого подмножества антецедентов (предшествующих условий)\n",
    "def eval_condition(attributes, condition, knowledge_base):\n",
    "    output = []\n",
    "    for sub_condition in condition:\n",
    "        attr_name = sub_condition[\"attribute\"]\n",
    "        if attr_name in attributes:\n",
    "            attr_value = attributes[attr_name]\n",
    "            fuzzy_set = sub_condition.get(\"fuzzy_set\")\n",
    "            if fuzzy_set:\n",
    "                output.append(\n",
    "                    fuzzify(attr_value, knowledge_base[\"attributes\"][attr_name][\"fuzzy_sets\"])[fuzzy_set] > 0.5)\n",
    "            else:\n",
    "                output.append(attr_value == sub_condition[\"value\"])\n",
    "        else:\n",
    "            return False\n",
    "    return all(output)"
   ],
   "metadata": {
    "collapsed": false,
    "ExecuteTime": {
     "end_time": "2023-06-13T02:11:36.980065442Z",
     "start_time": "2023-06-13T02:11:36.979165118Z"
    }
   }
  },
  {
   "cell_type": "code",
   "execution_count": 444,
   "outputs": [],
   "source": [
    "# Функция для визуализации\n",
    "def visualize_fuzzy_sets(user, knowledge_base):\n",
    "    for attr_name, attr_value in user.items():\n",
    "        if attr_name in knowledge_base[\"attributes\"]:\n",
    "            attribute = knowledge_base[\"attributes\"][attr_name]\n",
    "            if \"fuzzy_sets\" in attribute:\n",
    "                for fuzzy_set_name, points in attribute[\"fuzzy_sets\"].items():\n",
    "                    x = np.linspace(0, max(points), 100)\n",
    "                    membership_function = fuzz.trapmf(x, points)\n",
    "                    plt.plot(x, membership_function, label=fuzzy_set_name)\n",
    "\n",
    "                memberships = fuzzify(user[attr_name], attribute[\"fuzzy_sets\"])\n",
    "\n",
    "                # Вычисление максимального уровня членства\n",
    "                max_membership = max(memberships.values())\n",
    "\n",
    "                for fuzzy_set_name, membership in memberships.items():\n",
    "                    # Проверка, если степень принадлежности равна максимальной, то рисуем точку\n",
    "                    if membership == max_membership:\n",
    "                        plt.scatter(\n",
    "                            user[attr_name],\n",
    "                            membership,\n",
    "                            color='yellow',\n",
    "                            s=100,\n",
    "                            label=f\"user\"\n",
    "                        )\n",
    "                        break\n",
    "\n",
    "                plt.title(attr_name)\n",
    "                plt.ylabel(\"Membership\")\n",
    "                plt.xlabel(\"Value\")\n",
    "                plt.legend(loc=\"center right\")\n",
    "                plt.grid(True)\n",
    "                plt.show()"
   ],
   "metadata": {
    "collapsed": false,
    "ExecuteTime": {
     "end_time": "2023-06-13T02:11:36.980111759Z",
     "start_time": "2023-06-13T02:11:36.979238817Z"
    }
   }
  },
  {
   "cell_type": "code",
   "execution_count": 445,
   "outputs": [],
   "source": [
    "# Функция применяет правила из базы знаний к атрибутам пользователя\n",
    "def apply_rules(attributes, rules, knowledge_base):\n",
    "    for rule in rules:\n",
    "        if eval_condition(attributes, rule[\"antecedent\"], knowledge_base):\n",
    "            decision = rule[\"consequent\"][\"value\"]\n",
    "            print(f\"Для пользователя с атрибутами {attributes}, решение: {decision}\")\n",
    "            return rule[\"consequent\"]\n",
    "    decision = \"rejected\"\n",
    "    print(f\"Для пользователя с атрибутами {attributes}, решение: {decision}\")\n",
    "    return {\"attribute\": \"credit\", \"value\": decision}"
   ],
   "metadata": {
    "collapsed": false,
    "ExecuteTime": {
     "end_time": "2023-06-13T02:11:36.980157035Z",
     "start_time": "2023-06-13T02:11:36.979347041Z"
    }
   }
  },
  {
   "cell_type": "code",
   "execution_count": 446,
   "outputs": [
    {
     "name": "stdout",
     "output_type": "stream",
     "text": [
      "Для пользователя с атрибутами {'age': 20, 'income': 20000, 'credit_history': 0}, решение: rejected\n",
      "Для пользователя с атрибутами {'age': 15, 'income': 25000, 'credit_history': 1}, решение: rejected\n",
      "Для пользователя с атрибутами {'age': 35, 'income': 80000, 'credit_history': 1}, решение: approved\n",
      "Для пользователя с атрибутами {'age': 22, 'income': 30000, 'credit_history': 1}, решение: rejected\n",
      "Для пользователя с атрибутами {'age': 80, 'income': 100000, 'credit_history': 1}, решение: rejected\n",
      "Для пользователя с атрибутами {'age': 50, 'income': 80000, 'credit_history': 0}, решение: rejected\n",
      "Для пользователя с атрибутами {'age': 30, 'income': 40000, 'credit_history': 1}, решение: approved\n",
      "Для пользователя с атрибутами {'age': 25, 'income': 60000, 'credit_history': 1}, решение: approved\n",
      "Для пользователя с атрибутами {'age': 45, 'income': 70000, 'credit_history': 0}, решение: rejected\n",
      "Для пользователя с атрибутами {'age': 40, 'income': 55000, 'credit_history': 0.5}, решение: approved\n",
      "Для пользователя с атрибутами {'age': 22, 'income': 45000, 'credit_history': 0.5}, решение: rejected\n"
     ]
    }
   ],
   "source": [
    "# Для каждого пользователя рисуем график\n",
    "for user in users:\n",
    "    apply_rules(user, knowledge_base['rules'], knowledge_base)\n",
    "    #visualize_fuzzy_sets(user, knowledge_base)"
   ],
   "metadata": {
    "collapsed": false,
    "ExecuteTime": {
     "end_time": "2023-06-13T02:11:36.993457477Z",
     "start_time": "2023-06-13T02:11:36.979428614Z"
    }
   }
  }
 ],
 "metadata": {
  "kernelspec": {
   "display_name": "Python 3",
   "language": "python",
   "name": "python3"
  },
  "language_info": {
   "codemirror_mode": {
    "name": "ipython",
    "version": 2
   },
   "file_extension": ".py",
   "mimetype": "text/x-python",
   "name": "python",
   "nbconvert_exporter": "python",
   "pygments_lexer": "ipython2",
   "version": "2.7.6"
  }
 },
 "nbformat": 4,
 "nbformat_minor": 0
}

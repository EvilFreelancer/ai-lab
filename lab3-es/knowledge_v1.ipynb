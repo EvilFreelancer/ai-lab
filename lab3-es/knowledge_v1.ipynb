{
 "cells": [
  {
   "cell_type": "markdown",
   "source": [
    "## Входные данные"
   ],
   "metadata": {
    "collapsed": false
   }
  },
  {
   "cell_type": "code",
   "execution_count": 1,
   "outputs": [],
   "source": [
    "attributes = {'age': 25, \"income\": 50000, \"credit_history\": \"bad\"}"
   ],
   "metadata": {
    "collapsed": false,
    "ExecuteTime": {
     "end_time": "2023-06-06T12:08:58.976914398Z",
     "start_time": "2023-06-06T12:08:58.976629642Z"
    }
   }
  },
  {
   "cell_type": "markdown",
   "source": [
    "## Прочитать базу знаний"
   ],
   "metadata": {
    "collapsed": false
   }
  },
  {
   "cell_type": "code",
   "execution_count": 2,
   "outputs": [],
   "source": [
    "import yaml\n",
    "\n",
    "# Загрузка данных из файла YAML\n",
    "with open('knowledge_base.yml', 'r') as file:\n",
    "    knowledge_base = yaml.load(file, Loader=yaml.FullLoader)"
   ],
   "metadata": {
    "collapsed": false,
    "ExecuteTime": {
     "end_time": "2023-06-06T12:08:58.977206458Z",
     "start_time": "2023-06-06T12:08:58.976774755Z"
    }
   }
  },
  {
   "cell_type": "markdown",
   "source": [
    "## Опишем функции для проверки правил"
   ],
   "metadata": {
    "collapsed": false
   }
  },
  {
   "cell_type": "code",
   "execution_count": 3,
   "outputs": [],
   "source": [
    "# Функция для применения правил\n",
    "def apply_rules(attributes, rules):\n",
    "    for rule in rules:\n",
    "        antecedent = rule[\"antecedent\"]\n",
    "        consequent = rule[\"consequent\"]\n",
    "        if all(eval_condition(attributes, antecedent) for antecedent in [antecedent]):\n",
    "            return consequent\n",
    "    return None"
   ],
   "metadata": {
    "collapsed": false,
    "ExecuteTime": {
     "end_time": "2023-06-06T12:08:58.977337865Z",
     "start_time": "2023-06-06T12:08:58.977149571Z"
    }
   }
  },
  {
   "cell_type": "code",
   "execution_count": 4,
   "outputs": [],
   "source": [
    "# Функция для проверки условия в антецеденте\n",
    "def eval_condition(attributes, condition):\n",
    "    for sub_condition in condition:\n",
    "        attr_name = sub_condition[\"attribute\"]\n",
    "        if attr_name in attributes:\n",
    "            attr_value = attributes[attr_name]\n",
    "            operator = sub_condition[\"operator\"]\n",
    "            value = sub_condition[\"value\"]\n",
    "\n",
    "            if operator == \"eq\":  # equal\n",
    "                if attr_value != value:\n",
    "                    return False\n",
    "            elif operator == \"gt\":  # greater than\n",
    "                if attr_value <= value:\n",
    "                    return False\n",
    "            elif operator == \"lt\":  # less than\n",
    "                if attr_value >= value:\n",
    "                    return False\n",
    "            elif operator == \"ge\":  # greater than or equal to\n",
    "                if attr_value < value:\n",
    "                    return False\n",
    "            elif operator == \"le\":  # less than or equal to\n",
    "                if attr_value > value:\n",
    "                    return False\n",
    "        else:\n",
    "            return False  # если атрибут отсутствует во входных данных, считаем условие не выполненным\n",
    "\n",
    "    return True"
   ],
   "metadata": {
    "collapsed": false,
    "ExecuteTime": {
     "end_time": "2023-06-06T12:08:58.977450627Z",
     "start_time": "2023-06-06T12:08:58.977288632Z"
    }
   }
  },
  {
   "cell_type": "markdown",
   "source": [
    "## Непосредственный запуск приложения"
   ],
   "metadata": {
    "collapsed": false
   }
  },
  {
   "cell_type": "code",
   "execution_count": 5,
   "outputs": [
    {
     "name": "stdout",
     "output_type": "stream",
     "text": [
      "Решение: rejected\n"
     ]
    }
   ],
   "source": [
    "# Дальше запуск скрипта\n",
    "result = apply_rules(attributes, knowledge_base['rules'])\n",
    "if result:\n",
    "    print(f\"Решение: {result['value']}\")\n",
    "else:\n",
    "    print(\"Нет подходящего решения\")"
   ],
   "metadata": {
    "collapsed": false,
    "ExecuteTime": {
     "end_time": "2023-06-06T12:08:58.977684628Z",
     "start_time": "2023-06-06T12:08:58.977407336Z"
    }
   }
  }
 ],
 "metadata": {
  "kernelspec": {
   "display_name": "Python 3",
   "language": "python",
   "name": "python3"
  },
  "language_info": {
   "codemirror_mode": {
    "name": "ipython",
    "version": 2
   },
   "file_extension": ".py",
   "mimetype": "text/x-python",
   "name": "python",
   "nbconvert_exporter": "python",
   "pygments_lexer": "ipython2",
   "version": "2.7.6"
  }
 },
 "nbformat": 4,
 "nbformat_minor": 0
}
